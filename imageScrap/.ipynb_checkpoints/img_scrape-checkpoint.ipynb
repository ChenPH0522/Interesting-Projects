{
 "cells": [
  {
   "cell_type": "code",
   "execution_count": 1,
   "metadata": {
    "collapsed": true
   },
   "outputs": [],
   "source": [
    "import os\n",
    "import time\n",
    "import requests\n",
    "import urllib.request\n",
    "from bs4 import BeautifulSoup as bs"
   ]
  },
  {
   "cell_type": "code",
   "execution_count": 2,
   "metadata": {
    "collapsed": true
   },
   "outputs": [],
   "source": [
    "root_url = 'http://comic.dragonballcn.com'\n",
    "main_url = root_url + '/dragonball_zh_tw.htm'\n",
    "main_page = requests.get(main_url)\n",
    "soup = bs(main_page.content, 'html.parser')"
   ]
  },
  {
   "cell_type": "code",
   "execution_count": 3,
   "metadata": {
    "collapsed": true,
    "scrolled": false
   },
   "outputs": [],
   "source": [
    "suburl_lst = []\n",
    "div_lst = soup.findAll('div', id='hdnavli2')\n",
    "for div in div_lst:\n",
    "    a_lst = div.findAll('a')\n",
    "    for a in a_lst:\n",
    "        suburl_lst.append( root_url + '/' + a['href'] )"
   ]
  },
  {
   "cell_type": "code",
   "execution_count": 7,
   "metadata": {},
   "outputs": [],
   "source": [
    "book_no = 0\n",
    "\n",
    "for suburl in suburl_lst[book_no:]:\n",
    "    \n",
    "    book_no += 1\n",
    "    book_dir = './book' + str(book_no)\n",
    "    if not os.path.exists(book_dir):\n",
    "        os.makedirs(book_dir)\n",
    "    \n",
    "    pic_no = 0\n",
    "    \n",
    "    sub_page = requests.get(suburl)\n",
    "    soup = bs(sub_page.content, 'html.parser')\n",
    "    img_lst = soup.findAll('img')\n",
    "    \n",
    "    for img in img_lst:\n",
    "        \n",
    "        pic_no += 1\n",
    "        url = img['src'].replace( '_thumb.', '')\n",
    "        urllib.request.urlretrieve(url, book_dir + '/' + str(pic_no).zfill(3) + '.jpg')\n",
    "        \n",
    "        time.sleep(1)"
   ]
  }
 ],
 "metadata": {
  "kernelspec": {
   "display_name": "Python 3",
   "language": "python",
   "name": "python3"
  },
  "language_info": {
   "codemirror_mode": {
    "name": "ipython",
    "version": 3
   },
   "file_extension": ".py",
   "mimetype": "text/x-python",
   "name": "python",
   "nbconvert_exporter": "python",
   "pygments_lexer": "ipython3",
   "version": "3.6.3"
  }
 },
 "nbformat": 4,
 "nbformat_minor": 2
}
